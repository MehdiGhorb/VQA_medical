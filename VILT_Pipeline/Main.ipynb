{
 "cells": [
  {
   "cell_type": "code",
   "execution_count": 1,
   "metadata": {},
   "outputs": [],
   "source": [
    "# Use Huggingface ViLT\n",
    "\n",
    "import torch\n",
    "import torch.nn as nn\n",
    "import torch.nn.functional as F\n",
    "import numpy as np\n",
    "import os\n",
    "import sys\n",
    "import json\n",
    "import argparse\n",
    "#from torchvision import transforms\n",
    "from transformers import ViltProcessor, ViltForQuestionAnswering, ViltConfig\n",
    "from PIL import Image\n",
    "import pandas as pd\n",
    "import requests"
   ]
  },
  {
   "cell_type": "code",
   "execution_count": 2,
   "metadata": {},
   "outputs": [],
   "source": [
    "# prepare image and text\n",
    "url = \"https://prod-images-static.radiopaedia.org/images/17484000/e9bcb98e83a7c84e5f2a1cf890dbf6_big_gallery.jpeg\"\n",
    "image = Image.open(requests.get(url, stream=True).raw).convert(\"RGB\")\n",
    "\n",
    "image.show()"
   ]
  },
  {
   "cell_type": "code",
   "execution_count": 3,
   "metadata": {},
   "outputs": [],
   "source": [
    "# Define the user question\n",
    "question = \"is the lung healthy?\""
   ]
  },
  {
   "cell_type": "code",
   "execution_count": 4,
   "metadata": {},
   "outputs": [
    {
     "name": "stderr",
     "output_type": "stream",
     "text": [
      "/home/mehdi/Desktop/aut/pkgs/lib/python3.10/site-packages/transformers/tokenization_utils_base.py:1601: FutureWarning: `clean_up_tokenization_spaces` was not set. It will be set to `True` by default. This behavior will be depracted in transformers v4.45, and will be then set to `False` by default. For more details check this issue: https://github.com/huggingface/transformers/issues/31884\n",
      "  warnings.warn(\n",
      "/home/mehdi/Desktop/aut/pkgs/lib/python3.10/site-packages/transformers/generation/utils.py:1258: UserWarning: Using the model-agnostic default `max_length` (=20) to control the generation length. We recommend setting `max_new_tokens` to control the maximum length of the generation.\n",
      "  warnings.warn(\n"
     ]
    },
    {
     "name": "stdout",
     "output_type": "stream",
     "text": [
      "a black and white photo of a chest with a large lung\n"
     ]
    }
   ],
   "source": [
    "from transformers import pipeline\n",
    "from PIL import Image\n",
    "import requests\n",
    "\n",
    "# Initialize the pipeline for image-to-text using the BLIP image captioning model\n",
    "pipe = pipeline(\"image-to-text\", model=\"Salesforce/blip-image-captioning-large\", device='cuda')\n",
    "\n",
    "# Open an image (replace 'your_image.jpg' with the path to your image)\n",
    "#img_url = 'https://prod-images-static.radiopaedia.org/images/4170261/c5d7c3ed6c7fe53e59c2dd902e44b9_big_gallery.jpg'\n",
    "#image = Image.open(requests.get(img_url, stream=True).raw).convert('RGB')\n",
    "\n",
    "# Generate caption for the image\n",
    "result = pipe(image)\n",
    "\n",
    "# Display the result (caption)\n",
    "print(result[0]['generated_text'])\n"
   ]
  },
  {
   "cell_type": "markdown",
   "metadata": {},
   "source": []
  },
  {
   "cell_type": "code",
   "execution_count": 5,
   "metadata": {},
   "outputs": [],
   "source": [
    "Photo_Context = result[0]['generated_text']"
   ]
  },
  {
   "cell_type": "code",
   "execution_count": 9,
   "metadata": {},
   "outputs": [
    {
     "data": {
      "application/vnd.jupyter.widget-view+json": {
       "model_id": "cd78f9689fdd4c38a87be5ac309a7634",
       "version_major": 2,
       "version_minor": 0
      },
      "text/plain": [
       "Loading checkpoint shards:   0%|          | 0/4 [00:00<?, ?it/s]"
      ]
     },
     "metadata": {},
     "output_type": "display_data"
    }
   ],
   "source": [
    "# Initialize the pipeline for text generation using the Medical-Llama3-8B model\n",
    "#pipe = pipeline(\"text-generation\", model=\"ruslanmv/Medical-Llama3-8B\", device='cuda')\n",
    "\n",
    "from transformers import BitsAndBytesConfig\n",
    "quant_config = BitsAndBytesConfig(load_in_4bit=True)\n",
    "pipe = pipeline(\"text-generation\", model=\"ruslanmv/Medical-Llama3-8B\", device='auto', quantization_config=quant_config)\n",
    "\n",
    "# Generate text\n",
    "prompt = f\"\"\"\n",
    "Photo Context: {Photo_Context}\n",
    "User Question: {question}\n",
    "Task: Create a list of question in Python list syntax for the information that you need to answer the question\n",
    "\"\"\"\n",
    "print(prompt)\n",
    "\n",
    "result = pipe(prompt, max_length=200, num_return_sequences=1)\n",
    "\n",
    "# Display the result\n",
    "print(result[0]['generated_text'])"
   ]
  },
  {
   "cell_type": "code",
   "execution_count": 13,
   "metadata": {},
   "outputs": [
    {
     "ename": "AttributeError",
     "evalue": "'str' object has no attribute 'to_list'",
     "output_type": "error",
     "traceback": [
      "\u001b[1;31m---------------------------------------------------------------------------\u001b[0m",
      "\u001b[1;31mAttributeError\u001b[0m                            Traceback (most recent call last)",
      "Cell \u001b[1;32mIn[13], line 1\u001b[0m\n\u001b[1;32m----> 1\u001b[0m question_list \u001b[38;5;241m=\u001b[39m result[\u001b[38;5;241m0\u001b[39m][\u001b[38;5;124m'\u001b[39m\u001b[38;5;124mgenerated_text\u001b[39m\u001b[38;5;124m'\u001b[39m]\u001b[38;5;241m.\u001b[39mto_list()\n",
      "\u001b[1;31mAttributeError\u001b[0m: 'str' object has no attribute 'to_list'"
     ]
    }
   ],
   "source": [
    "question_list_str = result[0]['generated_text']\n",
    "\n",
    "# Convert the generated text to a list\n",
    "question_list =eval(question_list_str)\n",
    "\n",
    "print(question_list)"
   ]
  },
  {
   "cell_type": "code",
   "execution_count": 2,
   "metadata": {},
   "outputs": [
    {
     "name": "stdout",
     "output_type": "stream",
     "text": [
      "WARNING:tensorflow:From c:\\Users\\Kenri\\anaconda3\\Lib\\site-packages\\keras\\src\\losses.py:2976: The name tf.losses.sparse_softmax_cross_entropy is deprecated. Please use tf.compat.v1.losses.sparse_softmax_cross_entropy instead.\n",
      "\n"
     ]
    }
   ],
   "source": [
    "# Load the model VILT\n",
    "config = ViltConfig.from_pretrained(\"vilt-Med_RAD-finetuned-vqa-KHC-4-with_valid_labels\")\n",
    "model = ViltForQuestionAnswering.from_pretrained(\"vilt-Med_RAD-finetuned-vqa-KHC-Model-merged_datasets-config-extend-with_valid\",\n",
    "                                                 id2label=config.id2label,\n",
    "                                                 label2id=config.label2id)\n",
    "processor = ViltProcessor.from_pretrained(\"dandelin/vilt-b32-mlm\")"
   ]
  },
  {
   "cell_type": "code",
   "execution_count": null,
   "metadata": {},
   "outputs": [],
   "source": [
    "# run all the questions in the list and get the answer for each question from VILT\n",
    "\n",
    "answers = []\n",
    "\n",
    "for q in question_list:\n",
    "    # prepare inputs\n",
    "    encoding = processor(image, q, return_tensors=\"pt\")\n",
    "\n",
    "    # forward pass\n",
    "    outputs = model(**encoding)\n",
    "    logits = outputs.logits\n",
    "    idx = logits.argmax(-1).item()\n",
    "    print(\"Predicted answer:\", model.config.id2label[idx])\n",
    "    answers.append(model.config.id2label[idx])"
   ]
  },
  {
   "cell_type": "code",
   "execution_count": null,
   "metadata": {},
   "outputs": [],
   "source": [
    "# input the answer list back to the text generation model to generate the final answer\n",
    "\n",
    "# Initialize the pipeline for text generation using the Medical-Llama3-8B model\n",
    "pipe = pipeline(\"text-generation\", model=\"ruslanmv/Medical-Llama3-8B\")\n",
    "\n",
    "# Generate text\n",
    "prompt = f\"\"\"\n",
    "Photo Context: {Photo_Context}\n",
    "User Question: {question}\n",
    "Questions and Answers: {list(zip(question_list, answers))}\n",
    "Task: Generate the final answer\n",
    "\"\"\"\n",
    "print(prompt)\n",
    "\n",
    "result = pipe(prompt, max_length=200, num_return_sequences=1)\n",
    "\n",
    "# Display the result\n",
    "print(result[0]['generated_text'])"
   ]
  }
 ],
 "metadata": {
  "kernelspec": {
   "display_name": "base",
   "language": "python",
   "name": "python3"
  },
  "language_info": {
   "codemirror_mode": {
    "name": "ipython",
    "version": 3
   },
   "file_extension": ".py",
   "mimetype": "text/x-python",
   "name": "python",
   "nbconvert_exporter": "python",
   "pygments_lexer": "ipython3",
   "version": "3.10.12"
  }
 },
 "nbformat": 4,
 "nbformat_minor": 2
}
